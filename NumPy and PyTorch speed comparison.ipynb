{
 "cells": [
  {
   "cell_type": "markdown",
   "metadata": {},
   "source": [
    "We want to time...\n",
    "\n",
    "* gradient computation\n",
    "* Simple arithmetic\n",
    "* Linear algebra operations\n",
    "* Functional primitives (sin, exp, etc) "
   ]
  },
  {
   "cell_type": "code",
   "execution_count": 1,
   "metadata": {
    "ExecuteTime": {
     "end_time": "2017-09-08T00:02:37.457549Z",
     "start_time": "2017-09-08T00:02:36.924829Z"
    },
    "collapsed": true
   },
   "outputs": [],
   "source": [
    "from speed_tests import PyTorch, NumPy\n",
    "from functools import lru_cache"
   ]
  },
  {
   "cell_type": "code",
   "execution_count": 2,
   "metadata": {
    "ExecuteTime": {
     "end_time": "2017-09-08T00:02:37.545691Z",
     "start_time": "2017-09-08T00:02:37.459300Z"
    },
    "collapsed": true
   },
   "outputs": [],
   "source": [
    "import numpy as np\n",
    "import time\n",
    "import numpy.linalg as LA\n",
    "import torch\n",
    "import timeit\n",
    "from warnings import warn\n",
    "\n",
    "def time_fn(fn_name, class_, limit=1):\n",
    "    times = []\n",
    "    f = getattr(class_, fn_name)\n",
    "    start_time = time.time()\n",
    "    while True:\n",
    "        start = time.time()\n",
    "        r = f()\n",
    "        end = time.time()\n",
    "        times += [end - start]\n",
    "        if time.time() - start_time > limit:\n",
    "            break\n",
    "        \n",
    "    return {'result': r,\n",
    "            'time': min(times),\n",
    "            'repeats': len(times)}\n",
    "\n",
    "def get_numpy_array(in_):\n",
    "    if type(in_) == np.ndarray:\n",
    "        return in_\n",
    "    if type(in_) == torch.DoubleTensor: \n",
    "        return in_.numpy()\n",
    "    if type(in_) == torch.autograd.Variable:\n",
    "        if len(in_.data) > 1:\n",
    "            warn('len(in_.data) > 1. Concat\\'ing data')\n",
    "            return in_.data[:].numpy()\n",
    "        return in_.data[0].numpy()\n",
    "    if type(ret) != np.ndarray:\n",
    "        raise ValueError(f'{type(result)} != np.ndarray')\n",
    "\n",
    "def compare_fns(fn_name, *classes, verbose=True):\n",
    "    assert len(classes) == 2\n",
    "    \n",
    "    data = [time_fn(fn_name, c) for i, c in enumerate(classes)]\n",
    "    times = [{key: datum[key] for key in ['time']}#, 'std']}\n",
    "             for c, datum in zip(classes, data)]\n",
    "    results = [get_numpy_array(datum['result']) for datum in data]\n",
    "            \n",
    "    if verbose:\n",
    "        error = np.abs(results[0] - results[1])\n",
    "        rel_error = LA.norm(results[0] - results[1]) / LA.norm(results[0])\n",
    "        print('error.mean =', error.mean(), 'relative error =', rel_error)\n",
    "        \n",
    "    assert np.allclose(*results)\n",
    "    \n",
    "    for i, datum in enumerate(data):\n",
    "        del data[i]['result']\n",
    "    \n",
    "    return data\n",
    "    "
   ]
  },
  {
   "cell_type": "code",
   "execution_count": 3,
   "metadata": {
    "ExecuteTime": {
     "end_time": "2017-09-08T00:02:39.219082Z",
     "start_time": "2017-09-08T00:02:37.548487Z"
    }
   },
   "outputs": [
    {
     "data": {
      "text/plain": [
       "['add', 'complex_fn', 'cumsum', 'grad', 'matmul', 'pow', 'sin', 'svd']"
      ]
     },
     "execution_count": 3,
     "metadata": {},
     "output_type": "execute_result"
    }
   ],
   "source": [
    "numpy = NumPy(int(2e3))\n",
    "pytorch = PyTorch(A=numpy.A, x=numpy.x, y=numpy.y, S=numpy.S, S_svd=numpy.S_svd)\n",
    "\n",
    "numpy.__name__ = 'numpy'\n",
    "pytorch.__name__ = 'pytorch'\n",
    "fns = [f for f in dir(numpy) if f[0] != '_' and f != f.upper() and len(f) != 1 and f != 'S_svd']\n",
    "fns"
   ]
  },
  {
   "cell_type": "code",
   "execution_count": 4,
   "metadata": {
    "ExecuteTime": {
     "end_time": "2017-09-08T00:03:03.529639Z",
     "start_time": "2017-09-08T00:02:39.230254Z"
    },
    "scrolled": false
   },
   "outputs": [
    {
     "name": "stdout",
     "output_type": "stream",
     "text": [
      "add\n",
      "error.mean = 0.0 relative error = 0.0\n",
      "{'function': 'add', 'numpy_time': 0.18988633155822754, 'pytorch_time': 0.16830110549926758}\n",
      "complex_fn\n",
      "error.mean = 1.15027859819e+38 relative error = 4.63929025871e-19\n",
      "{'function': 'complex_fn', 'numpy_time': 0.0051081180572509766, 'pytorch_time': 0.005244016647338867}\n",
      "cumsum\n",
      "error.mean = 0.0 relative error = 0.0\n",
      "{'function': 'cumsum', 'numpy_time': 1.413053035736084, 'pytorch_time': 1.28731107711792}\n",
      "grad\n"
     ]
    },
    {
     "name": "stderr",
     "output_type": "stream",
     "text": [
      "/Users/scott/anaconda/lib/python3.6/site-packages/ipykernel/__main__.py:31: UserWarning: len(in_.data) > 1. Concat'ing data\n"
     ]
    },
    {
     "name": "stdout",
     "output_type": "stream",
     "text": [
      "error.mean = 4.59026921431e-16 relative error = 4.17322888086e-14\n",
      "{'function': 'grad', 'numpy_time': 0.23931217193603516, 'pytorch_time': 0.03609180450439453}\n",
      "matmul\n",
      "error.mean = 3.12322168128e-14 relative error = 9.25778878186e-16\n",
      "{'function': 'matmul', 'numpy_time': 0.01742696762084961, 'pytorch_time': 0.01739025115966797}\n",
      "pow\n",
      "error.mean = 0.0 relative error = 0.0\n",
      "{'function': 'pow', 'numpy_time': 4.57763671875e-05, 'pytorch_time': 4.673004150390625e-05}\n",
      "sin\n",
      "error.mean = 0.0 relative error = 0.0\n",
      "{'function': 'sin', 'numpy_time': 0.722559928894043, 'pytorch_time': 0.719749927520752}\n",
      "svd\n",
      "error.mean = 2.86063707444e-14 relative error = 2.28221959828e-15\n",
      "{'function': 'svd', 'numpy_time': 0.08397579193115234, 'pytorch_time': 0.08576488494873047}\n"
     ]
    }
   ],
   "source": [
    "data = []\n",
    "for fn in fns:\n",
    "    print(fn)\n",
    "    t_np, t_pyt = compare_fns(fn, numpy, pytorch)\n",
    "    \n",
    "    data += [{'function': fn,\n",
    "              'numpy_time': t_np['time'], 'pytorch_time': t_pyt['time']}]\n",
    "    print(data[-1])"
   ]
  },
  {
   "cell_type": "code",
   "execution_count": 5,
   "metadata": {
    "ExecuteTime": {
     "end_time": "2017-09-08T00:03:28.873093Z",
     "start_time": "2017-09-08T00:03:28.326485Z"
    }
   },
   "outputs": [
    {
     "data": {
      "text/html": [
       "<div>\n",
       "<style>\n",
       "    .dataframe thead tr:only-child th {\n",
       "        text-align: right;\n",
       "    }\n",
       "\n",
       "    .dataframe thead th {\n",
       "        text-align: left;\n",
       "    }\n",
       "\n",
       "    .dataframe tbody tr th {\n",
       "        vertical-align: top;\n",
       "    }\n",
       "</style>\n",
       "<table border=\"1\" class=\"dataframe\">\n",
       "  <thead>\n",
       "    <tr style=\"text-align: right;\">\n",
       "      <th></th>\n",
       "      <th>function</th>\n",
       "      <th>numpy_time</th>\n",
       "      <th>pytorch_time</th>\n",
       "    </tr>\n",
       "    <tr>\n",
       "      <th>function</th>\n",
       "      <th></th>\n",
       "      <th></th>\n",
       "      <th></th>\n",
       "    </tr>\n",
       "  </thead>\n",
       "  <tbody>\n",
       "    <tr>\n",
       "      <th>add</th>\n",
       "      <td>add</td>\n",
       "      <td>0.189886</td>\n",
       "      <td>0.168301</td>\n",
       "    </tr>\n",
       "    <tr>\n",
       "      <th>complex_fn</th>\n",
       "      <td>complex_fn</td>\n",
       "      <td>0.005108</td>\n",
       "      <td>0.005244</td>\n",
       "    </tr>\n",
       "    <tr>\n",
       "      <th>cumsum</th>\n",
       "      <td>cumsum</td>\n",
       "      <td>1.413053</td>\n",
       "      <td>1.287311</td>\n",
       "    </tr>\n",
       "    <tr>\n",
       "      <th>grad</th>\n",
       "      <td>grad</td>\n",
       "      <td>0.239312</td>\n",
       "      <td>0.036092</td>\n",
       "    </tr>\n",
       "    <tr>\n",
       "      <th>matmul</th>\n",
       "      <td>matmul</td>\n",
       "      <td>0.017427</td>\n",
       "      <td>0.017390</td>\n",
       "    </tr>\n",
       "    <tr>\n",
       "      <th>pow</th>\n",
       "      <td>pow</td>\n",
       "      <td>0.000046</td>\n",
       "      <td>0.000047</td>\n",
       "    </tr>\n",
       "    <tr>\n",
       "      <th>sin</th>\n",
       "      <td>sin</td>\n",
       "      <td>0.722560</td>\n",
       "      <td>0.719750</td>\n",
       "    </tr>\n",
       "    <tr>\n",
       "      <th>svd</th>\n",
       "      <td>svd</td>\n",
       "      <td>0.083976</td>\n",
       "      <td>0.085765</td>\n",
       "    </tr>\n",
       "  </tbody>\n",
       "</table>\n",
       "</div>"
      ],
      "text/plain": [
       "              function  numpy_time  pytorch_time\n",
       "function                                        \n",
       "add                add    0.189886      0.168301\n",
       "complex_fn  complex_fn    0.005108      0.005244\n",
       "cumsum          cumsum    1.413053      1.287311\n",
       "grad              grad    0.239312      0.036092\n",
       "matmul          matmul    0.017427      0.017390\n",
       "pow                pow    0.000046      0.000047\n",
       "sin                sin    0.722560      0.719750\n",
       "svd                svd    0.083976      0.085765"
      ]
     },
     "execution_count": 5,
     "metadata": {},
     "output_type": "execute_result"
    }
   ],
   "source": [
    "from altair import Chart\n",
    "import pandas as pd\n",
    "df = pd.DataFrame(data)\n",
    "df.index = df.function\n",
    "df"
   ]
  },
  {
   "cell_type": "code",
   "execution_count": 6,
   "metadata": {
    "ExecuteTime": {
     "end_time": "2017-09-08T00:03:30.564754Z",
     "start_time": "2017-09-08T00:03:30.557258Z"
    },
    "collapsed": true
   },
   "outputs": [],
   "source": [
    "import matplotlib.pyplot as plt\n",
    "plt.style.use('ggplot')\n",
    "df['pytorch_time_norm'] = df['pytorch_time'] / df['numpy_time']\n",
    "df['numpy_time_norm'] = df['numpy_time'] /   df['numpy_time']\n",
    "df['pytorch_speedup'] = df['numpy_time'] /   df['pytorch_time']"
   ]
  },
  {
   "cell_type": "code",
   "execution_count": 7,
   "metadata": {
    "ExecuteTime": {
     "end_time": "2017-09-08T00:03:31.648188Z",
     "start_time": "2017-09-08T00:03:31.288021Z"
    }
   },
   "outputs": [
    {
     "data": {
      "text/plain": [
       "<matplotlib.text.Text at 0x1372d7860>"
      ]
     },
     "execution_count": 7,
     "metadata": {},
     "output_type": "execute_result"
    },
    {
     "data": {
      "image/png": "[encoded data removed]",
      "text/plain": [
       "<matplotlib.figure.Figure at 0x13725bc18>"
      ]
     },
     "metadata": {
      "image/png": {
       "height": 314,
       "width": 389
      }
     },
     "output_type": "display_data"
    }
   ],
   "source": [
    "df.plot.bar(x='function', y=['numpy_time', 'pytorch_time'],\n",
    "#             yerr=[df['numpy_time_std'], df['pytorch_time_std']],\n",
    "            logy=False)\n",
    "plt.ylabel('Time (s)')"
   ]
  },
  {
   "cell_type": "code",
   "execution_count": 10,
   "metadata": {
    "ExecuteTime": {
     "end_time": "2017-09-08T00:03:50.331130Z",
     "start_time": "2017-09-08T00:03:49.967985Z"
    }
   },
   "outputs": [
    {
     "data": {
      "text/plain": [
       "(0, 1.4)"
      ]
     },
     "execution_count": 10,
     "metadata": {},
     "output_type": "execute_result"
    },
    {
     "data": {
      "image/png": "[encoded data removed]",
      "text/plain": [
       "<matplotlib.figure.Figure at 0x1375f1f60>"
      ]
     },
     "metadata": {
      "image/png": {
       "height": 316,
       "width": 373
      }
     },
     "output_type": "display_data"
    }
   ],
   "source": [
    "df.plot.bar(x='function', y=['numpy_time_norm', 'pytorch_time_norm'])\n",
    "plt.ylim(0, 1.4)"
   ]
  },
  {
   "cell_type": "code",
   "execution_count": 12,
   "metadata": {
    "ExecuteTime": {
     "end_time": "2017-09-08T00:05:28.699470Z",
     "start_time": "2017-09-08T00:05:28.683054Z"
    }
   },
   "outputs": [
    {
     "data": {
      "text/html": [
       "<div>\n",
       "<style>\n",
       "    .dataframe thead tr:only-child th {\n",
       "        text-align: right;\n",
       "    }\n",
       "\n",
       "    .dataframe thead th {\n",
       "        text-align: left;\n",
       "    }\n",
       "\n",
       "    .dataframe tbody tr th {\n",
       "        vertical-align: top;\n",
       "    }\n",
       "</style>\n",
       "<table border=\"1\" class=\"dataframe\">\n",
       "  <thead>\n",
       "    <tr style=\"text-align: right;\">\n",
       "      <th></th>\n",
       "      <th>function</th>\n",
       "      <th>numpy_time</th>\n",
       "      <th>pytorch_time</th>\n",
       "      <th>pytorch_time_norm</th>\n",
       "      <th>numpy_time_norm</th>\n",
       "      <th>pytorch_speedup</th>\n",
       "    </tr>\n",
       "    <tr>\n",
       "      <th>function</th>\n",
       "      <th></th>\n",
       "      <th></th>\n",
       "      <th></th>\n",
       "      <th></th>\n",
       "      <th></th>\n",
       "      <th></th>\n",
       "    </tr>\n",
       "  </thead>\n",
       "  <tbody>\n",
       "    <tr>\n",
       "      <th>add</th>\n",
       "      <td>add</td>\n",
       "      <td>0.189886</td>\n",
       "      <td>0.168301</td>\n",
       "      <td>0.886326</td>\n",
       "      <td>1.0</td>\n",
       "      <td>1.128254</td>\n",
       "    </tr>\n",
       "    <tr>\n",
       "      <th>complex_fn</th>\n",
       "      <td>complex_fn</td>\n",
       "      <td>0.005108</td>\n",
       "      <td>0.005244</td>\n",
       "      <td>1.026604</td>\n",
       "      <td>1.0</td>\n",
       "      <td>0.974085</td>\n",
       "    </tr>\n",
       "    <tr>\n",
       "      <th>cumsum</th>\n",
       "      <td>cumsum</td>\n",
       "      <td>1.413053</td>\n",
       "      <td>1.287311</td>\n",
       "      <td>0.911014</td>\n",
       "      <td>1.0</td>\n",
       "      <td>1.097678</td>\n",
       "    </tr>\n",
       "    <tr>\n",
       "      <th>grad</th>\n",
       "      <td>grad</td>\n",
       "      <td>0.239312</td>\n",
       "      <td>0.036092</td>\n",
       "      <td>0.150815</td>\n",
       "      <td>1.0</td>\n",
       "      <td>6.630651</td>\n",
       "    </tr>\n",
       "    <tr>\n",
       "      <th>matmul</th>\n",
       "      <td>matmul</td>\n",
       "      <td>0.017427</td>\n",
       "      <td>0.017390</td>\n",
       "      <td>0.997893</td>\n",
       "      <td>1.0</td>\n",
       "      <td>1.002111</td>\n",
       "    </tr>\n",
       "    <tr>\n",
       "      <th>pow</th>\n",
       "      <td>pow</td>\n",
       "      <td>0.000046</td>\n",
       "      <td>0.000047</td>\n",
       "      <td>1.020833</td>\n",
       "      <td>1.0</td>\n",
       "      <td>0.979592</td>\n",
       "    </tr>\n",
       "    <tr>\n",
       "      <th>sin</th>\n",
       "      <td>sin</td>\n",
       "      <td>0.722560</td>\n",
       "      <td>0.719750</td>\n",
       "      <td>0.996111</td>\n",
       "      <td>1.0</td>\n",
       "      <td>1.003904</td>\n",
       "    </tr>\n",
       "    <tr>\n",
       "      <th>svd</th>\n",
       "      <td>svd</td>\n",
       "      <td>0.083976</td>\n",
       "      <td>0.085765</td>\n",
       "      <td>1.021305</td>\n",
       "      <td>1.0</td>\n",
       "      <td>0.979140</td>\n",
       "    </tr>\n",
       "  </tbody>\n",
       "</table>\n",
       "</div>"
      ],
      "text/plain": [
       "              function  numpy_time  pytorch_time  pytorch_time_norm  \\\n",
       "function                                                              \n",
       "add                add    0.189886      0.168301           0.886326   \n",
       "complex_fn  complex_fn    0.005108      0.005244           1.026604   \n",
       "cumsum          cumsum    1.413053      1.287311           0.911014   \n",
       "grad              grad    0.239312      0.036092           0.150815   \n",
       "matmul          matmul    0.017427      0.017390           0.997893   \n",
       "pow                pow    0.000046      0.000047           1.020833   \n",
       "sin                sin    0.722560      0.719750           0.996111   \n",
       "svd                svd    0.083976      0.085765           1.021305   \n",
       "\n",
       "            numpy_time_norm  pytorch_speedup  \n",
       "function                                      \n",
       "add                     1.0         1.128254  \n",
       "complex_fn              1.0         0.974085  \n",
       "cumsum                  1.0         1.097678  \n",
       "grad                    1.0         6.630651  \n",
       "matmul                  1.0         1.002111  \n",
       "pow                     1.0         0.979592  \n",
       "sin                     1.0         1.003904  \n",
       "svd                     1.0         0.979140  "
      ]
     },
     "execution_count": 12,
     "metadata": {},
     "output_type": "execute_result"
    }
   ],
   "source": [
    "df"
   ]
  },
  {
   "cell_type": "code",
   "execution_count": 15,
   "metadata": {
    "ExecuteTime": {
     "end_time": "2017-09-08T00:06:18.220670Z",
     "start_time": "2017-09-08T00:06:18.215838Z"
    }
   },
   "outputs": [
    {
     "data": {
      "text/plain": [
       "Index(['add', 'complex_fn', 'cumsum', 'grad', 'matmul', 'pow', 'sin', 'svd'], dtype='object', name='function')"
      ]
     },
     "execution_count": 15,
     "metadata": {},
     "output_type": "execute_result"
    }
   ],
   "source": [
    "df.index"
   ]
  },
  {
   "cell_type": "code",
   "execution_count": 31,
   "metadata": {
    "ExecuteTime": {
     "end_time": "2017-09-08T00:08:53.095421Z",
     "start_time": "2017-09-08T00:08:53.085350Z"
    }
   },
   "outputs": [
    {
     "data": {
      "text/html": [
       "<div>\n",
       "<style>\n",
       "    .dataframe thead tr:only-child th {\n",
       "        text-align: right;\n",
       "    }\n",
       "\n",
       "    .dataframe thead th {\n",
       "        text-align: left;\n",
       "    }\n",
       "\n",
       "    .dataframe tbody tr th {\n",
       "        vertical-align: top;\n",
       "    }\n",
       "</style>\n",
       "<table border=\"1\" class=\"dataframe\">\n",
       "  <thead>\n",
       "    <tr style=\"text-align: right;\">\n",
       "      <th>function</th>\n",
       "      <th>grad</th>\n",
       "    </tr>\n",
       "  </thead>\n",
       "  <tbody>\n",
       "    <tr>\n",
       "      <th>function</th>\n",
       "      <td>grad</td>\n",
       "    </tr>\n",
       "    <tr>\n",
       "      <th>numpy_time</th>\n",
       "      <td>0.239312</td>\n",
       "    </tr>\n",
       "    <tr>\n",
       "      <th>pytorch_time</th>\n",
       "      <td>0.0360918</td>\n",
       "    </tr>\n",
       "    <tr>\n",
       "      <th>pytorch_time_norm</th>\n",
       "      <td>0.150815</td>\n",
       "    </tr>\n",
       "    <tr>\n",
       "      <th>numpy_time_norm</th>\n",
       "      <td>1</td>\n",
       "    </tr>\n",
       "    <tr>\n",
       "      <th>pytorch_speedup</th>\n",
       "      <td>6.63065</td>\n",
       "    </tr>\n",
       "  </tbody>\n",
       "</table>\n",
       "</div>"
      ],
      "text/plain": [
       "function                grad\n",
       "function                grad\n",
       "numpy_time          0.239312\n",
       "pytorch_time       0.0360918\n",
       "pytorch_time_norm   0.150815\n",
       "numpy_time_norm            1\n",
       "pytorch_speedup      6.63065"
      ]
     },
     "execution_count": 31,
     "metadata": {},
     "output_type": "execute_result"
    }
   ],
   "source": [
    "grad_times = df[df.function == 'grad'].T\n",
    "grad_times"
   ]
  },
  {
   "cell_type": "code",
   "execution_count": null,
   "metadata": {
    "collapsed": true
   },
   "outputs": [],
   "source": []
  }
 ],
 "metadata": {
  "kernelspec": {
   "display_name": "Python 3",
   "language": "python",
   "name": "python3"
  },
  "language_info": {
   "codemirror_mode": {
    "name": "ipython",
    "version": 3
   },
   "file_extension": ".py",
   "mimetype": "text/x-python",
   "name": "python",
   "nbconvert_exporter": "python",
   "pygments_lexer": "ipython3",
   "version": "3.6.5"
  }
 },
 "nbformat": 4,
 "nbformat_minor": 2
}
