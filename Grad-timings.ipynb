{
 "cells": [
  {
   "cell_type": "code",
   "execution_count": 1,
   "metadata": {
    "ExecuteTime": {
     "end_time": "2017-09-07T23:19:13.572991Z",
     "start_time": "2017-09-07T23:19:12.794231Z"
    },
    "collapsed": true
   },
   "outputs": [],
   "source": [
    "import numpy as np\n",
    "import torch\n",
    "from speed_tests import PyTorch, NumPy\n",
    "from torch.nn import MSELoss\n",
    "import numpy.linalg as LA\n",
    "from torch.autograd import Variable\n",
    "import time"
   ]
  },
  {
   "cell_type": "code",
   "execution_count": 2,
   "metadata": {
    "ExecuteTime": {
     "end_time": "2017-09-07T23:19:13.585245Z",
     "start_time": "2017-09-07T23:19:13.576491Z"
    },
    "collapsed": true
   },
   "outputs": [],
   "source": [
    "def torch_grad(A, x, y):\n",
    "    mse = MSELoss()\n",
    "    m = mse.forward(A @ x, y)\n",
    "    m.backward()\n",
    "    return x.grad\n",
    "        \n",
    "def numpy_grad(A, x, y):\n",
    "    return (2*A.T@(A@x - y)) * 1 / len(y)"
   ]
  },
  {
   "cell_type": "code",
   "execution_count": 3,
   "metadata": {
    "ExecuteTime": {
     "end_time": "2017-09-07T19:44:51.761358Z",
     "start_time": "2017-09-07T19:44:51.746135Z"
    },
    "collapsed": true
   },
   "outputs": [],
   "source": [
    "def time_fn(fn, *args, limit=1, **kwargs):\n",
    "    times = []\n",
    "    start_time = time.time()\n",
    "    while True:\n",
    "        start = time.time()\n",
    "        r = fn(*args, **kwargs)\n",
    "        end = time.time()\n",
    "        times += [end - start]\n",
    "        if time.time() - start_time > limit:\n",
    "            break\n",
    "    if type(r) != np.ndarray:\n",
    "        r = r.data.numpy()\n",
    "    return {'result': r,\n",
    "            'time': min(times),\n",
    "            'repeats': len(times)}"
   ]
  },
  {
   "cell_type": "code",
   "execution_count": 4,
   "metadata": {
    "ExecuteTime": {
     "end_time": "2017-09-07T19:44:51.787598Z",
     "start_time": "2017-09-07T19:44:51.776066Z"
    },
    "collapsed": true
   },
   "outputs": [],
   "source": [
    "def time_fn_with_size(fn, n=None, d=10, seed=42, use_torch=False):\n",
    "    np.random.seed(42)\n",
    "    n = 10*d\n",
    "    A = np.random.randn(n, d)\n",
    "    x = np.random.randn(d)\n",
    "    y = A@x + n * 0.1 * np.random.randn(n)\n",
    "    if use_torch:\n",
    "        A = Variable(torch.from_numpy(A), requires_grad=False)\n",
    "        y = Variable(torch.from_numpy(y), requires_grad=False)\n",
    "        x = Variable(torch.from_numpy(x), requires_grad=True)\n",
    "    return {'library': 'torch' if use_torch else 'numpy',\n",
    "            'seed': seed, 'n': n, 'd': d,\n",
    "            **time_fn(fn, A, x, y)}"
   ]
  },
  {
   "cell_type": "code",
   "execution_count": 25,
   "metadata": {
    "ExecuteTime": {
     "end_time": "2017-09-07T20:37:42.219645Z",
     "start_time": "2017-09-07T20:37:42.216383Z"
    },
    "collapsed": true
   },
   "outputs": [],
   "source": [
    "data = []"
   ]
  },
  {
   "cell_type": "code",
   "execution_count": 27,
   "metadata": {
    "ExecuteTime": {
     "end_time": "2017-09-07T21:41:47.307599Z",
     "start_time": "2017-09-07T21:33:33.136851Z"
    }
   },
   "outputs": [
    {
     "name": "stdout",
     "output_type": "stream",
     "text": [
      "10 <function numpy_grad at 0x10c47b620>\n",
      "19 <function numpy_grad at 0x10c47b620>\n",
      "39 <function numpy_grad at 0x10c47b620>\n",
      "79 <function numpy_grad at 0x10c47b620>\n",
      "158 <function numpy_grad at 0x10c47b620>\n",
      "315 <function numpy_grad at 0x10c47b620>\n",
      "629 <function numpy_grad at 0x10c47b620>\n",
      "1256 <function numpy_grad at 0x10c47b620>\n",
      "2506 <function numpy_grad at 0x10c47b620>\n",
      "4999 <function numpy_grad at 0x10c47b620>\n",
      "10 <function torch_grad at 0x10c47b6a8>\n",
      "19 <function torch_grad at 0x10c47b6a8>\n",
      "39 <function torch_grad at 0x10c47b6a8>\n",
      "79 <function torch_grad at 0x10c47b6a8>\n",
      "158 <function torch_grad at 0x10c47b6a8>\n",
      "315 <function torch_grad at 0x10c47b6a8>\n",
      "629 <function torch_grad at 0x10c47b6a8>\n",
      "1256 <function torch_grad at 0x10c47b6a8>\n",
      "2506 <function torch_grad at 0x10c47b6a8>\n",
      "4999 <function torch_grad at 0x10c47b6a8>\n",
      "10 <function numpy_grad at 0x10c47b620>\n",
      "19 <function numpy_grad at 0x10c47b620>\n",
      "39 <function numpy_grad at 0x10c47b620>\n",
      "79 <function numpy_grad at 0x10c47b620>\n",
      "158 <function numpy_grad at 0x10c47b620>\n",
      "315 <function numpy_grad at 0x10c47b620>\n",
      "629 <function numpy_grad at 0x10c47b620>\n",
      "1256 <function numpy_grad at 0x10c47b620>\n",
      "2506 <function numpy_grad at 0x10c47b620>\n",
      "4999 <function numpy_grad at 0x10c47b620>\n",
      "10 <function torch_grad at 0x10c47b6a8>\n",
      "19 <function torch_grad at 0x10c47b6a8>\n",
      "39 <function torch_grad at 0x10c47b6a8>\n",
      "79 <function torch_grad at 0x10c47b6a8>\n",
      "158 <function torch_grad at 0x10c47b6a8>\n",
      "315 <function torch_grad at 0x10c47b6a8>\n",
      "629 <function torch_grad at 0x10c47b6a8>\n",
      "1256 <function torch_grad at 0x10c47b6a8>\n",
      "2506 <function torch_grad at 0x10c47b6a8>\n",
      "4999 <function torch_grad at 0x10c47b6a8>\n",
      "10 <function numpy_grad at 0x10c47b620>\n",
      "19 <function numpy_grad at 0x10c47b620>\n",
      "39 <function numpy_grad at 0x10c47b620>\n",
      "79 <function numpy_grad at 0x10c47b620>\n",
      "158 <function numpy_grad at 0x10c47b620>\n",
      "315 <function numpy_grad at 0x10c47b620>\n",
      "629 <function numpy_grad at 0x10c47b620>\n",
      "1256 <function numpy_grad at 0x10c47b620>\n",
      "2506 <function numpy_grad at 0x10c47b620>\n",
      "4999 <function numpy_grad at 0x10c47b620>\n",
      "10 <function torch_grad at 0x10c47b6a8>\n",
      "19 <function torch_grad at 0x10c47b6a8>\n",
      "39 <function torch_grad at 0x10c47b6a8>\n",
      "79 <function torch_grad at 0x10c47b6a8>\n",
      "158 <function torch_grad at 0x10c47b6a8>\n",
      "315 <function torch_grad at 0x10c47b6a8>\n",
      "629 <function torch_grad at 0x10c47b6a8>\n",
      "1256 <function torch_grad at 0x10c47b6a8>\n",
      "2506 <function torch_grad at 0x10c47b6a8>\n",
      "4999 <function torch_grad at 0x10c47b6a8>\n",
      "10 <function numpy_grad at 0x10c47b620>\n",
      "19 <function numpy_grad at 0x10c47b620>\n",
      "39 <function numpy_grad at 0x10c47b620>\n",
      "79 <function numpy_grad at 0x10c47b620>\n",
      "158 <function numpy_grad at 0x10c47b620>\n",
      "315 <function numpy_grad at 0x10c47b620>\n",
      "629 <function numpy_grad at 0x10c47b620>\n",
      "1256 <function numpy_grad at 0x10c47b620>\n",
      "2506 <function numpy_grad at 0x10c47b620>\n",
      "4999 <function numpy_grad at 0x10c47b620>\n",
      "10 <function torch_grad at 0x10c47b6a8>\n",
      "19 <function torch_grad at 0x10c47b6a8>\n",
      "39 <function torch_grad at 0x10c47b6a8>\n",
      "79 <function torch_grad at 0x10c47b6a8>\n",
      "158 <function torch_grad at 0x10c47b6a8>\n",
      "315 <function torch_grad at 0x10c47b6a8>\n",
      "629 <function torch_grad at 0x10c47b6a8>\n",
      "1256 <function torch_grad at 0x10c47b6a8>\n",
      "2506 <function torch_grad at 0x10c47b6a8>\n",
      "4999 <function torch_grad at 0x10c47b6a8>\n",
      "10 <function numpy_grad at 0x10c47b620>\n",
      "19 <function numpy_grad at 0x10c47b620>\n",
      "39 <function numpy_grad at 0x10c47b620>\n",
      "79 <function numpy_grad at 0x10c47b620>\n",
      "158 <function numpy_grad at 0x10c47b620>\n",
      "315 <function numpy_grad at 0x10c47b620>\n",
      "629 <function numpy_grad at 0x10c47b620>\n",
      "1256 <function numpy_grad at 0x10c47b620>\n",
      "2506 <function numpy_grad at 0x10c47b620>\n",
      "4999 <function numpy_grad at 0x10c47b620>\n",
      "10 <function torch_grad at 0x10c47b6a8>\n",
      "19 <function torch_grad at 0x10c47b6a8>\n",
      "39 <function torch_grad at 0x10c47b6a8>\n",
      "79 <function torch_grad at 0x10c47b6a8>\n",
      "158 <function torch_grad at 0x10c47b6a8>\n",
      "315 <function torch_grad at 0x10c47b6a8>\n",
      "629 <function torch_grad at 0x10c47b6a8>\n",
      "1256 <function torch_grad at 0x10c47b6a8>\n",
      "2506 <function torch_grad at 0x10c47b6a8>\n",
      "4999 <function torch_grad at 0x10c47b6a8>\n",
      "10 <function numpy_grad at 0x10c47b620>\n",
      "19 <function numpy_grad at 0x10c47b620>\n",
      "39 <function numpy_grad at 0x10c47b620>\n",
      "79 <function numpy_grad at 0x10c47b620>\n",
      "158 <function numpy_grad at 0x10c47b620>\n",
      "315 <function numpy_grad at 0x10c47b620>\n",
      "629 <function numpy_grad at 0x10c47b620>\n",
      "1256 <function numpy_grad at 0x10c47b620>\n",
      "2506 <function numpy_grad at 0x10c47b620>\n",
      "4999 <function numpy_grad at 0x10c47b620>\n",
      "10 <function torch_grad at 0x10c47b6a8>\n",
      "19 <function torch_grad at 0x10c47b6a8>\n",
      "39 <function torch_grad at 0x10c47b6a8>\n",
      "79 <function torch_grad at 0x10c47b6a8>\n",
      "158 <function torch_grad at 0x10c47b6a8>\n",
      "315 <function torch_grad at 0x10c47b6a8>\n",
      "629 <function torch_grad at 0x10c47b6a8>\n",
      "1256 <function torch_grad at 0x10c47b6a8>\n",
      "2506 <function torch_grad at 0x10c47b6a8>\n",
      "4999 <function torch_grad at 0x10c47b6a8>\n",
      "10 <function numpy_grad at 0x10c47b620>\n",
      "19 <function numpy_grad at 0x10c47b620>\n",
      "39 <function numpy_grad at 0x10c47b620>\n",
      "79 <function numpy_grad at 0x10c47b620>\n",
      "158 <function numpy_grad at 0x10c47b620>\n",
      "315 <function numpy_grad at 0x10c47b620>\n",
      "629 <function numpy_grad at 0x10c47b620>\n",
      "1256 <function numpy_grad at 0x10c47b620>\n",
      "2506 <function numpy_grad at 0x10c47b620>\n",
      "4999 <function numpy_grad at 0x10c47b620>\n",
      "10 <function torch_grad at 0x10c47b6a8>\n",
      "19 <function torch_grad at 0x10c47b6a8>\n",
      "39 <function torch_grad at 0x10c47b6a8>\n",
      "79 <function torch_grad at 0x10c47b6a8>\n",
      "158 <function torch_grad at 0x10c47b6a8>\n",
      "315 <function torch_grad at 0x10c47b6a8>\n",
      "629 <function torch_grad at 0x10c47b6a8>\n",
      "1256 <function torch_grad at 0x10c47b6a8>\n",
      "2506 <function torch_grad at 0x10c47b6a8>\n",
      "4999 <function torch_grad at 0x10c47b6a8>\n",
      "10 <function numpy_grad at 0x10c47b620>\n",
      "19 <function numpy_grad at 0x10c47b620>\n",
      "39 <function numpy_grad at 0x10c47b620>\n",
      "79 <function numpy_grad at 0x10c47b620>\n",
      "158 <function numpy_grad at 0x10c47b620>\n",
      "315 <function numpy_grad at 0x10c47b620>\n",
      "629 <function numpy_grad at 0x10c47b620>\n",
      "1256 <function numpy_grad at 0x10c47b620>\n",
      "2506 <function numpy_grad at 0x10c47b620>\n",
      "4999 <function numpy_grad at 0x10c47b620>\n",
      "10 <function torch_grad at 0x10c47b6a8>\n",
      "19 <function torch_grad at 0x10c47b6a8>\n",
      "39 <function torch_grad at 0x10c47b6a8>\n",
      "79 <function torch_grad at 0x10c47b6a8>\n",
      "158 <function torch_grad at 0x10c47b6a8>\n",
      "315 <function torch_grad at 0x10c47b6a8>\n",
      "629 <function torch_grad at 0x10c47b6a8>\n",
      "1256 <function torch_grad at 0x10c47b6a8>\n",
      "2506 <function torch_grad at 0x10c47b6a8>\n",
      "4999 <function torch_grad at 0x10c47b6a8>\n",
      "10 <function numpy_grad at 0x10c47b620>\n",
      "19 <function numpy_grad at 0x10c47b620>\n",
      "39 <function numpy_grad at 0x10c47b620>\n",
      "79 <function numpy_grad at 0x10c47b620>\n",
      "158 <function numpy_grad at 0x10c47b620>\n",
      "315 <function numpy_grad at 0x10c47b620>\n",
      "629 <function numpy_grad at 0x10c47b620>\n",
      "1256 <function numpy_grad at 0x10c47b620>\n",
      "2506 <function numpy_grad at 0x10c47b620>\n",
      "4999 <function numpy_grad at 0x10c47b620>\n",
      "10 <function torch_grad at 0x10c47b6a8>\n",
      "19 <function torch_grad at 0x10c47b6a8>\n",
      "39 <function torch_grad at 0x10c47b6a8>\n",
      "79 <function torch_grad at 0x10c47b6a8>\n",
      "158 <function torch_grad at 0x10c47b6a8>\n",
      "315 <function torch_grad at 0x10c47b6a8>\n",
      "629 <function torch_grad at 0x10c47b6a8>\n",
      "1256 <function torch_grad at 0x10c47b6a8>\n",
      "2506 <function torch_grad at 0x10c47b6a8>\n",
      "4999 <function torch_grad at 0x10c47b6a8>\n",
      "10 <function numpy_grad at 0x10c47b620>\n",
      "19 <function numpy_grad at 0x10c47b620>\n",
      "39 <function numpy_grad at 0x10c47b620>\n",
      "79 <function numpy_grad at 0x10c47b620>\n",
      "158 <function numpy_grad at 0x10c47b620>\n",
      "315 <function numpy_grad at 0x10c47b620>\n",
      "629 <function numpy_grad at 0x10c47b620>\n",
      "1256 <function numpy_grad at 0x10c47b620>\n",
      "2506 <function numpy_grad at 0x10c47b620>\n",
      "4999 <function numpy_grad at 0x10c47b620>\n",
      "10 <function torch_grad at 0x10c47b6a8>\n",
      "19 <function torch_grad at 0x10c47b6a8>\n",
      "39 <function torch_grad at 0x10c47b6a8>\n",
      "79 <function torch_grad at 0x10c47b6a8>\n",
      "158 <function torch_grad at 0x10c47b6a8>\n",
      "315 <function torch_grad at 0x10c47b6a8>\n",
      "629 <function torch_grad at 0x10c47b6a8>\n",
      "1256 <function torch_grad at 0x10c47b6a8>\n",
      "2506 <function torch_grad at 0x10c47b6a8>\n",
      "4999 <function torch_grad at 0x10c47b6a8>\n"
     ]
    }
   ],
   "source": [
    "seed = 42\n",
    "fn_use_torch = {numpy_grad: False, torch_grad: True}\n",
    "for repeat in range(10):\n",
    "    for fn, use_torch in fn_use_torch.items():\n",
    "        for d in np.logspace(1, np.log10(5e3), num=10, dtype=int):\n",
    "            print(repeat, d, fn)\n",
    "            data += [time_fn_with_size(fn, d=d, seed=seed,\n",
    "                              use_torch=use_torch)]"
   ]
  },
  {
   "cell_type": "code",
   "execution_count": 46,
   "metadata": {
    "ExecuteTime": {
     "end_time": "2017-09-07T22:07:42.861356Z",
     "start_time": "2017-09-07T22:07:42.851491Z"
    }
   },
   "outputs": [
    {
     "data": {
      "text/plain": [
       "220"
      ]
     },
     "execution_count": 46,
     "metadata": {},
     "output_type": "execute_result"
    }
   ],
   "source": [
    "import pandas as pd\n",
    "from altair import Chart\n",
    "df = pd.DataFrame(data)\n",
    "# df.to_csv('grad-timings.csv')\n",
    "df.head()"
   ]
  },
  {
   "cell_type": "code",
   "execution_count": 4,
   "metadata": {
    "ExecuteTime": {
     "end_time": "2017-09-07T23:19:21.154137Z",
     "start_time": "2017-09-07T23:19:21.150530Z"
    },
    "collapsed": true
   },
   "outputs": [],
   "source": [
    "import pandas as pd\n",
    "# df = pd.read_csv('grad-timings.csv')"
   ]
  },
  {
   "cell_type": "code",
   "execution_count": 5,
   "metadata": {
    "ExecuteTime": {
     "end_time": "2017-09-07T23:19:22.601937Z",
     "start_time": "2017-09-07T23:19:22.580498Z"
    }
   },
   "outputs": [
    {
     "data": {
      "text/html": [
       "<div>\n",
       "<style>\n",
       "    .dataframe thead tr:only-child th {\n",
       "        text-align: right;\n",
       "    }\n",
       "\n",
       "    .dataframe thead th {\n",
       "        text-align: left;\n",
       "    }\n",
       "\n",
       "    .dataframe tbody tr th {\n",
       "        vertical-align: top;\n",
       "    }\n",
       "</style>\n",
       "<table border=\"1\" class=\"dataframe\">\n",
       "  <thead>\n",
       "    <tr style=\"text-align: right;\">\n",
       "      <th>library</th>\n",
       "      <th>numpy</th>\n",
       "      <th>torch</th>\n",
       "    </tr>\n",
       "    <tr>\n",
       "      <th>d</th>\n",
       "      <th></th>\n",
       "      <th></th>\n",
       "    </tr>\n",
       "  </thead>\n",
       "  <tbody>\n",
       "    <tr>\n",
       "      <th>10</th>\n",
       "      <td>0.000007</td>\n",
       "      <td>0.000158</td>\n",
       "    </tr>\n",
       "    <tr>\n",
       "      <th>19</th>\n",
       "      <td>0.000011</td>\n",
       "      <td>0.000163</td>\n",
       "    </tr>\n",
       "    <tr>\n",
       "      <th>39</th>\n",
       "      <td>0.000024</td>\n",
       "      <td>0.000188</td>\n",
       "    </tr>\n",
       "    <tr>\n",
       "      <th>79</th>\n",
       "      <td>0.000076</td>\n",
       "      <td>0.000208</td>\n",
       "    </tr>\n",
       "    <tr>\n",
       "      <th>158</th>\n",
       "      <td>0.000497</td>\n",
       "      <td>0.000361</td>\n",
       "    </tr>\n",
       "    <tr>\n",
       "      <th>315</th>\n",
       "      <td>0.003804</td>\n",
       "      <td>0.001304</td>\n",
       "    </tr>\n",
       "    <tr>\n",
       "      <th>629</th>\n",
       "      <td>0.014424</td>\n",
       "      <td>0.003788</td>\n",
       "    </tr>\n",
       "    <tr>\n",
       "      <th>1256</th>\n",
       "      <td>0.059462</td>\n",
       "      <td>0.013757</td>\n",
       "    </tr>\n",
       "    <tr>\n",
       "      <th>2506</th>\n",
       "      <td>0.322136</td>\n",
       "      <td>0.054805</td>\n",
       "    </tr>\n",
       "    <tr>\n",
       "      <th>4999</th>\n",
       "      <td>1.811696</td>\n",
       "      <td>0.221597</td>\n",
       "    </tr>\n",
       "  </tbody>\n",
       "</table>\n",
       "</div>"
      ],
      "text/plain": [
       "library     numpy     torch\n",
       "d                          \n",
       "10       0.000007  0.000158\n",
       "19       0.000011  0.000163\n",
       "39       0.000024  0.000188\n",
       "79       0.000076  0.000208\n",
       "158      0.000497  0.000361\n",
       "315      0.003804  0.001304\n",
       "629      0.014424  0.003788\n",
       "1256     0.059462  0.013757\n",
       "2506     0.322136  0.054805\n",
       "4999     1.811696  0.221597"
      ]
     },
     "execution_count": 5,
     "metadata": {},
     "output_type": "execute_result"
    }
   ],
   "source": [
    "show = df.pivot_table(index='d', columns='library', values='time',\n",
    "                      aggfunc=np.min)\n",
    "show"
   ]
  },
  {
   "cell_type": "code",
   "execution_count": 6,
   "metadata": {
    "ExecuteTime": {
     "end_time": "2017-09-07T23:19:28.567127Z",
     "start_time": "2017-09-07T23:19:27.420871Z"
    }
   },
   "outputs": [
    {
     "data": {
      "image/png": "[encoded data removed]",
      "text/plain": [
       "<matplotlib.figure.Figure at 0x10edd9748>"
      ]
     },
     "metadata": {
      "image/png": {
       "height": 280,
       "width": 419
      }
     },
     "output_type": "display_data"
    }
   ],
   "source": [
    "import matplotlib.pyplot as plt\n",
    "plt.style.use('presentation')\n",
    "show.plot(logx=True, logy=True)\n",
    "plt.ylabel('Time (s)')\n",
    "# plt.grid(which='minor')\n",
    "plt.grid(which='major')"
   ]
  },
  {
   "cell_type": "code",
   "execution_count": 10,
   "metadata": {
    "ExecuteTime": {
     "end_time": "2017-09-07T23:20:04.195990Z",
     "start_time": "2017-09-07T23:20:03.487941Z"
    }
   },
   "outputs": [
    {
     "data": {
      "text/plain": [
       "[<matplotlib.lines.Line2D at 0x10f08eef0>]"
      ]
     },
     "execution_count": 10,
     "metadata": {},
     "output_type": "execute_result"
    },
    {
     "data": {
      "image/png": "[encoded data removed]",
      "text/plain": [
       "<matplotlib.figure.Figure at 0x10f9cba58>"
      ]
     },
     "metadata": {
      "image/png": {
       "height": 280,
       "width": 394
      }
     },
     "output_type": "display_data"
    }
   ],
   "source": [
    "speedup = show['torch'] / show['numpy'] \n",
    "speedup.plot(logx=True, logy=True)\n",
    "plt.plot([show.index.min(), show.index.max()], [1, 1])\n",
    "# because I have 8 cores on this system\n",
    "plt.plot([show.index.min(), show.index.max()], [1/8, 1/8])"
   ]
  },
  {
   "cell_type": "code",
   "execution_count": null,
   "metadata": {
    "collapsed": true
   },
   "outputs": [],
   "source": []
  }
 ],
 "metadata": {
  "kernelspec": {
   "display_name": "Python [default]",
   "language": "python",
   "name": "python3"
  },
  "language_info": {
   "codemirror_mode": {
    "name": "ipython",
    "version": 3
   },
   "file_extension": ".py",
   "mimetype": "text/x-python",
   "name": "python",
   "nbconvert_exporter": "python",
   "pygments_lexer": "ipython3",
   "version": "3.6.1"
  }
 },
 "nbformat": 4,
 "nbformat_minor": 2
}
