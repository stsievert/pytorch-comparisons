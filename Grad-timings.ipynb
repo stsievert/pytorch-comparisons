{
 "cells": [
  {
   "cell_type": "code",
   "execution_count": 1,
   "metadata": {
    "ExecuteTime": {
     "end_time": "2017-09-07T23:19:13.572991Z",
     "start_time": "2017-09-07T23:19:12.794231Z"
    },
    "collapsed": true
   },
   "outputs": [
    {
     "data": {
      "text/plain": [
       "'0.4.1'"
      ]
     },
     "execution_count": 1,
     "metadata": {},
     "output_type": "execute_result"
    }
   ],
   "source": [
    "import numpy as np\n",
    "import torch\n",
    "from speed_tests import PyTorch, NumPy\n",
    "from torch.nn import MSELoss\n",
    "import numpy.linalg as LA\n",
    "from torch.autograd import Variable\n",
    "import time\n",
    "torch.__version__"
   ]
  },
  {
   "cell_type": "code",
   "execution_count": 2,
   "metadata": {},
   "outputs": [],
   "source": [
    "import autograd\n",
    "import autograd.numpy as anp\n",
    "\n",
    "n, d = int(10e3), 1000\n",
    "A = np.random.randn(n, d)\n",
    "x = np.random.rand(d)\n",
    "y = A @ x\n",
    "\n",
    "def loss(x):\n",
    "    return ((anp.dot(A, x) - y)**2).mean()\n",
    "\n",
    "x_hat = np.random.rand(d)"
   ]
  },
  {
   "cell_type": "code",
   "execution_count": 3,
   "metadata": {},
   "outputs": [
    {
     "name": "stdout",
     "output_type": "stream",
     "text": [
      "CPU times: user 28.6 ms, sys: 4.54 ms, total: 33.1 ms\n",
      "Wall time: 22.3 ms\n"
     ]
    }
   ],
   "source": [
    "%time g1 = autograd.grad(loss)(x_hat)"
   ]
  },
  {
   "cell_type": "code",
   "execution_count": 6,
   "metadata": {
    "ExecuteTime": {
     "end_time": "2017-09-07T23:19:13.585245Z",
     "start_time": "2017-09-07T23:19:13.576491Z"
    },
    "collapsed": true
   },
   "outputs": [],
   "source": [
    "import autograd.numpy as anp\n",
    "\n",
    "def torch_grad(A, x, y):\n",
    "    mse = MSELoss()\n",
    "    m = mse.forward(A @ x, y)\n",
    "    m.backward()\n",
    "    return x.grad / len(y)\n",
    "        \n",
    "def numpy_grad(A, x, y):\n",
    "    return 2*(A.T@(A@x - y)) / len(y)\n",
    "\n",
    "def hips_grad(A, x, y):\n",
    "    loss = lambda x: ((anp.dot(A, x) - y)**2).sum() / len(y)\n",
    "    return autograd.grad(loss)(x)"
   ]
  },
  {
   "cell_type": "code",
   "execution_count": 7,
   "metadata": {},
   "outputs": [
    {
     "name": "stdout",
     "output_type": "stream",
     "text": [
      "CPU times: user 24.8 ms, sys: 2.21 ms, total: 27.1 ms\n",
      "Wall time: 16.2 ms\n"
     ]
    }
   ],
   "source": [
    "%time g2 = numpy_grad(A, x_hat, y)"
   ]
  },
  {
   "cell_type": "code",
   "execution_count": 8,
   "metadata": {
    "ExecuteTime": {
     "end_time": "2017-09-07T19:44:51.761358Z",
     "start_time": "2017-09-07T19:44:51.746135Z"
    },
    "collapsed": true
   },
   "outputs": [],
   "source": [
    "def time_fn(fn, *args, limit=1, **kwargs):\n",
    "    times = []\n",
    "    start_time = time.time()\n",
    "    while True:\n",
    "        start = time.time()\n",
    "        r = fn(*args, **kwargs)\n",
    "        end = time.time()\n",
    "        times += [end - start]\n",
    "        if time.time() - start_time > limit:\n",
    "            break\n",
    "    if type(r) != np.ndarray:\n",
    "        r = r.data.numpy()\n",
    "    return {'result': r,\n",
    "            'result_norm': np.linalg.norm(r),\n",
    "            'time': min(times),\n",
    "            'repeats': len(times)}"
   ]
  },
  {
   "cell_type": "code",
   "execution_count": 9,
   "metadata": {
    "ExecuteTime": {
     "end_time": "2017-09-07T19:44:51.787598Z",
     "start_time": "2017-09-07T19:44:51.776066Z"
    },
    "collapsed": true
   },
   "outputs": [],
   "source": [
    "def time_fn_with_size(fn, n=None, d=10, seed=42, library='numpy'):\n",
    "    np.random.seed(seed)\n",
    "    n = 10*d\n",
    "    A = np.random.randn(n, d)\n",
    "    x = np.random.randn(d)\n",
    "    y = A@x + n * 0.1 * np.random.randn(n)\n",
    "    if library == 'pytorch':\n",
    "        A = Variable(torch.from_numpy(A), requires_grad=False)\n",
    "        y = Variable(torch.from_numpy(y), requires_grad=False)\n",
    "        x = Variable(torch.from_numpy(x), requires_grad=True)\n",
    "    return {'library': library,\n",
    "            'seed': seed, 'n': n, 'd': d,\n",
    "            **time_fn(fn, A, x, y)}"
   ]
  },
  {
   "cell_type": "code",
   "execution_count": 12,
   "metadata": {
    "ExecuteTime": {
     "end_time": "2017-09-07T20:37:42.219645Z",
     "start_time": "2017-09-07T20:37:42.216383Z"
    },
    "collapsed": true
   },
   "outputs": [],
   "source": [
    "data = []"
   ]
  },
  {
   "cell_type": "code",
   "execution_count": 13,
   "metadata": {
    "ExecuteTime": {
     "end_time": "2017-09-07T21:41:47.307599Z",
     "start_time": "2017-09-07T21:33:33.136851Z"
    }
   },
   "outputs": [
    {
     "name": "stdout",
     "output_type": "stream",
     "text": [
      "0 <function torch_grad at 0x115344048>\n",
      "0 <function hips_grad at 0x115338d90>\n",
      "0 <function numpy_grad at 0x115338f28>\n",
      "1 <function torch_grad at 0x115344048>\n",
      "1 <function hips_grad at 0x115338d90>\n",
      "1 <function numpy_grad at 0x115338f28>\n",
      "2 <function torch_grad at 0x115344048>\n",
      "2 <function hips_grad at 0x115338d90>\n",
      "2 <function numpy_grad at 0x115338f28>\n",
      "3 <function torch_grad at 0x115344048>\n",
      "3 <function hips_grad at 0x115338d90>\n",
      "3 <function numpy_grad at 0x115338f28>\n",
      "4 <function torch_grad at 0x115344048>\n",
      "4 <function hips_grad at 0x115338d90>\n",
      "4 <function numpy_grad at 0x115338f28>\n",
      "5 <function torch_grad at 0x115344048>\n",
      "5 <function hips_grad at 0x115338d90>\n",
      "5 <function numpy_grad at 0x115338f28>\n",
      "6 <function torch_grad at 0x115344048>\n",
      "6 <function hips_grad at 0x115338d90>\n",
      "6 <function numpy_grad at 0x115338f28>\n",
      "7 <function torch_grad at 0x115344048>\n",
      "7 <function hips_grad at 0x115338d90>\n",
      "7 <function numpy_grad at 0x115338f28>\n",
      "8 <function torch_grad at 0x115344048>\n",
      "8 <function hips_grad at 0x115338d90>\n",
      "8 <function numpy_grad at 0x115338f28>\n",
      "9 <function torch_grad at 0x115344048>\n",
      "9 <function hips_grad at 0x115338d90>\n",
      "9 <function numpy_grad at 0x115338f28>\n"
     ]
    }
   ],
   "source": [
    "libraries = {'pytorch': torch_grad,\n",
    "             'hips': hips_grad,\n",
    "             'numpy': numpy_grad}\n",
    "\n",
    "for repeat in range(10):\n",
    "    for library, fn in libraries.items():\n",
    "        print(repeat, fn)\n",
    "        for d in np.logspace(1, np.log10(5e3), num=10, dtype=int):\n",
    "            data += [time_fn_with_size(fn, d=d, seed=repeat, library=library)]"
   ]
  },
  {
   "cell_type": "code",
   "execution_count": 14,
   "metadata": {
    "ExecuteTime": {
     "end_time": "2017-09-07T22:07:42.861356Z",
     "start_time": "2017-09-07T22:07:42.851491Z"
    }
   },
   "outputs": [
    {
     "data": {
      "text/html": [
       "<div>\n",
       "<style scoped>\n",
       "    .dataframe tbody tr th:only-of-type {\n",
       "        vertical-align: middle;\n",
       "    }\n",
       "\n",
       "    .dataframe tbody tr th {\n",
       "        vertical-align: top;\n",
       "    }\n",
       "\n",
       "    .dataframe thead th {\n",
       "        text-align: right;\n",
       "    }\n",
       "</style>\n",
       "<table border=\"1\" class=\"dataframe\">\n",
       "  <thead>\n",
       "    <tr style=\"text-align: right;\">\n",
       "      <th></th>\n",
       "      <th>d</th>\n",
       "      <th>library</th>\n",
       "      <th>n</th>\n",
       "      <th>repeats</th>\n",
       "      <th>result</th>\n",
       "      <th>result_norm</th>\n",
       "      <th>seed</th>\n",
       "      <th>time</th>\n",
       "    </tr>\n",
       "  </thead>\n",
       "  <tbody>\n",
       "    <tr>\n",
       "      <th>0</th>\n",
       "      <td>10</td>\n",
       "      <td>pytorch</td>\n",
       "      <td>100</td>\n",
       "      <td>6872</td>\n",
       "      <td>[-13.993452430457022, 58.827503108203985, 91.4...</td>\n",
       "      <td>447.616537</td>\n",
       "      <td>0</td>\n",
       "      <td>0.000076</td>\n",
       "    </tr>\n",
       "    <tr>\n",
       "      <th>1</th>\n",
       "      <td>19</td>\n",
       "      <td>pytorch</td>\n",
       "      <td>190</td>\n",
       "      <td>6231</td>\n",
       "      <td>[-114.80507999245879, 60.39931177814005, 132.0...</td>\n",
       "      <td>418.088224</td>\n",
       "      <td>0</td>\n",
       "      <td>0.000090</td>\n",
       "    </tr>\n",
       "    <tr>\n",
       "      <th>2</th>\n",
       "      <td>39</td>\n",
       "      <td>pytorch</td>\n",
       "      <td>390</td>\n",
       "      <td>4687</td>\n",
       "      <td>[46.93297063343392, 39.055735210216575, 82.640...</td>\n",
       "      <td>298.833339</td>\n",
       "      <td>0</td>\n",
       "      <td>0.000114</td>\n",
       "    </tr>\n",
       "    <tr>\n",
       "      <th>3</th>\n",
       "      <td>79</td>\n",
       "      <td>pytorch</td>\n",
       "      <td>790</td>\n",
       "      <td>4859</td>\n",
       "      <td>[34.53394542524026, -26.555283706704834, -32.8...</td>\n",
       "      <td>323.108401</td>\n",
       "      <td>0</td>\n",
       "      <td>0.000114</td>\n",
       "    </tr>\n",
       "    <tr>\n",
       "      <th>4</th>\n",
       "      <td>158</td>\n",
       "      <td>pytorch</td>\n",
       "      <td>1580</td>\n",
       "      <td>3387</td>\n",
       "      <td>[-21.439180838175083, 17.049971053693675, -24....</td>\n",
       "      <td>202.051514</td>\n",
       "      <td>0</td>\n",
       "      <td>0.000217</td>\n",
       "    </tr>\n",
       "  </tbody>\n",
       "</table>\n",
       "</div>"
      ],
      "text/plain": [
       "     d  library     n  repeats  \\\n",
       "0   10  pytorch   100     6872   \n",
       "1   19  pytorch   190     6231   \n",
       "2   39  pytorch   390     4687   \n",
       "3   79  pytorch   790     4859   \n",
       "4  158  pytorch  1580     3387   \n",
       "\n",
       "                                              result  result_norm  seed  \\\n",
       "0  [-13.993452430457022, 58.827503108203985, 91.4...   447.616537     0   \n",
       "1  [-114.80507999245879, 60.39931177814005, 132.0...   418.088224     0   \n",
       "2  [46.93297063343392, 39.055735210216575, 82.640...   298.833339     0   \n",
       "3  [34.53394542524026, -26.555283706704834, -32.8...   323.108401     0   \n",
       "4  [-21.439180838175083, 17.049971053693675, -24....   202.051514     0   \n",
       "\n",
       "       time  \n",
       "0  0.000076  \n",
       "1  0.000090  \n",
       "2  0.000114  \n",
       "3  0.000114  \n",
       "4  0.000217  "
      ]
     },
     "execution_count": 14,
     "metadata": {},
     "output_type": "execute_result"
    }
   ],
   "source": [
    "import pandas as pd\n",
    "from altair import Chart\n",
    "df = pd.DataFrame(data)\n",
    "r = df.groupby(['n', 'library'])['result_norm']\n",
    "df.to_csv('grad-timings.csv')\n",
    "df.head()"
   ]
  },
  {
   "cell_type": "code",
   "execution_count": 15,
   "metadata": {
    "ExecuteTime": {
     "end_time": "2017-09-07T23:19:21.154137Z",
     "start_time": "2017-09-07T23:19:21.150530Z"
    },
    "collapsed": true
   },
   "outputs": [],
   "source": [
    "import pandas as pd\n",
    "import numpy as np\n",
    "df = pd.read_csv('grad-timings.csv')"
   ]
  },
  {
   "cell_type": "code",
   "execution_count": 16,
   "metadata": {
    "ExecuteTime": {
     "end_time": "2017-09-07T23:19:22.601937Z",
     "start_time": "2017-09-07T23:19:22.580498Z"
    }
   },
   "outputs": [
    {
     "data": {
      "text/html": [
       "<div>\n",
       "<style scoped>\n",
       "    .dataframe tbody tr th:only-of-type {\n",
       "        vertical-align: middle;\n",
       "    }\n",
       "\n",
       "    .dataframe tbody tr th {\n",
       "        vertical-align: top;\n",
       "    }\n",
       "\n",
       "    .dataframe thead th {\n",
       "        text-align: right;\n",
       "    }\n",
       "</style>\n",
       "<table border=\"1\" class=\"dataframe\">\n",
       "  <thead>\n",
       "    <tr style=\"text-align: right;\">\n",
       "      <th>library</th>\n",
       "      <th>hips</th>\n",
       "      <th>numpy</th>\n",
       "      <th>pytorch</th>\n",
       "    </tr>\n",
       "    <tr>\n",
       "      <th>d</th>\n",
       "      <th></th>\n",
       "      <th></th>\n",
       "      <th></th>\n",
       "    </tr>\n",
       "  </thead>\n",
       "  <tbody>\n",
       "    <tr>\n",
       "      <th>10</th>\n",
       "      <td>0.000229</td>\n",
       "      <td>0.000005</td>\n",
       "      <td>0.000071</td>\n",
       "    </tr>\n",
       "    <tr>\n",
       "      <th>19</th>\n",
       "      <td>0.000243</td>\n",
       "      <td>0.000009</td>\n",
       "      <td>0.000081</td>\n",
       "    </tr>\n",
       "    <tr>\n",
       "      <th>39</th>\n",
       "      <td>0.000257</td>\n",
       "      <td>0.000013</td>\n",
       "      <td>0.000091</td>\n",
       "    </tr>\n",
       "    <tr>\n",
       "      <th>79</th>\n",
       "      <td>0.000286</td>\n",
       "      <td>0.000026</td>\n",
       "      <td>0.000105</td>\n",
       "    </tr>\n",
       "    <tr>\n",
       "      <th>158</th>\n",
       "      <td>0.000414</td>\n",
       "      <td>0.000070</td>\n",
       "      <td>0.000202</td>\n",
       "    </tr>\n",
       "    <tr>\n",
       "      <th>315</th>\n",
       "      <td>0.001216</td>\n",
       "      <td>0.000651</td>\n",
       "      <td>0.000942</td>\n",
       "    </tr>\n",
       "    <tr>\n",
       "      <th>629</th>\n",
       "      <td>0.003572</td>\n",
       "      <td>0.002911</td>\n",
       "      <td>0.003172</td>\n",
       "    </tr>\n",
       "    <tr>\n",
       "      <th>1256</th>\n",
       "      <td>0.012818</td>\n",
       "      <td>0.011895</td>\n",
       "      <td>0.012271</td>\n",
       "    </tr>\n",
       "    <tr>\n",
       "      <th>2506</th>\n",
       "      <td>0.053713</td>\n",
       "      <td>0.052277</td>\n",
       "      <td>0.054989</td>\n",
       "    </tr>\n",
       "    <tr>\n",
       "      <th>4999</th>\n",
       "      <td>0.216848</td>\n",
       "      <td>0.217401</td>\n",
       "      <td>0.223969</td>\n",
       "    </tr>\n",
       "  </tbody>\n",
       "</table>\n",
       "</div>"
      ],
      "text/plain": [
       "library      hips     numpy   pytorch\n",
       "d                                    \n",
       "10       0.000229  0.000005  0.000071\n",
       "19       0.000243  0.000009  0.000081\n",
       "39       0.000257  0.000013  0.000091\n",
       "79       0.000286  0.000026  0.000105\n",
       "158      0.000414  0.000070  0.000202\n",
       "315      0.001216  0.000651  0.000942\n",
       "629      0.003572  0.002911  0.003172\n",
       "1256     0.012818  0.011895  0.012271\n",
       "2506     0.053713  0.052277  0.054989\n",
       "4999     0.216848  0.217401  0.223969"
      ]
     },
     "execution_count": 16,
     "metadata": {},
     "output_type": "execute_result"
    }
   ],
   "source": [
    "show = df.pivot_table(index='d', columns='library', values='time',\n",
    "                      aggfunc=np.min)\n",
    "show"
   ]
  },
  {
   "cell_type": "code",
   "execution_count": 51,
   "metadata": {
    "ExecuteTime": {
     "end_time": "2017-09-07T23:19:28.567127Z",
     "start_time": "2017-09-07T23:19:27.420871Z"
    }
   },
   "outputs": [],
   "source": [
    "import matplotlib.pyplot as plt"
   ]
  },
  {
   "cell_type": "code",
   "execution_count": 24,
   "metadata": {},
   "outputs": [
    {
     "data": {
      "text/html": [
       "<div>\n",
       "<style scoped>\n",
       "    .dataframe tbody tr th:only-of-type {\n",
       "        vertical-align: middle;\n",
       "    }\n",
       "\n",
       "    .dataframe tbody tr th {\n",
       "        vertical-align: top;\n",
       "    }\n",
       "\n",
       "    .dataframe thead th {\n",
       "        text-align: right;\n",
       "    }\n",
       "</style>\n",
       "<table border=\"1\" class=\"dataframe\">\n",
       "  <thead>\n",
       "    <tr style=\"text-align: right;\">\n",
       "      <th></th>\n",
       "      <th>d</th>\n",
       "      <th>library</th>\n",
       "      <th>value</th>\n",
       "      <th>time (s)</th>\n",
       "    </tr>\n",
       "  </thead>\n",
       "  <tbody>\n",
       "    <tr>\n",
       "      <th>0</th>\n",
       "      <td>10</td>\n",
       "      <td>hips</td>\n",
       "      <td>0.000229</td>\n",
       "      <td>0.000229</td>\n",
       "    </tr>\n",
       "    <tr>\n",
       "      <th>1</th>\n",
       "      <td>19</td>\n",
       "      <td>hips</td>\n",
       "      <td>0.000243</td>\n",
       "      <td>0.000243</td>\n",
       "    </tr>\n",
       "    <tr>\n",
       "      <th>2</th>\n",
       "      <td>39</td>\n",
       "      <td>hips</td>\n",
       "      <td>0.000257</td>\n",
       "      <td>0.000257</td>\n",
       "    </tr>\n",
       "    <tr>\n",
       "      <th>3</th>\n",
       "      <td>79</td>\n",
       "      <td>hips</td>\n",
       "      <td>0.000286</td>\n",
       "      <td>0.000286</td>\n",
       "    </tr>\n",
       "    <tr>\n",
       "      <th>4</th>\n",
       "      <td>158</td>\n",
       "      <td>hips</td>\n",
       "      <td>0.000414</td>\n",
       "      <td>0.000414</td>\n",
       "    </tr>\n",
       "  </tbody>\n",
       "</table>\n",
       "</div>"
      ],
      "text/plain": [
       "     d library     value  time (s)\n",
       "0   10    hips  0.000229  0.000229\n",
       "1   19    hips  0.000243  0.000243\n",
       "2   39    hips  0.000257  0.000257\n",
       "3   79    hips  0.000286  0.000286\n",
       "4  158    hips  0.000414  0.000414"
      ]
     },
     "execution_count": 24,
     "metadata": {},
     "output_type": "execute_result"
    }
   ],
   "source": [
    "show[\"d\"] = show.index\n",
    "s = show.melt(id_vars=\"d\")\n",
    "s[\"time (s)\"] = s[\"value\"]\n",
    "s.head()"
   ]
  },
  {
   "cell_type": "code",
   "execution_count": 58,
   "metadata": {},
   "outputs": [
    {
     "name": "stdout",
     "output_type": "stream",
     "text": [
      "Index(['Unnamed: 0', 'd', 'library', 'n', 'repeats', 'result', 'result_norm',\n",
      "       'seed', 'time'],\n",
      "      dtype='object')\n"
     ]
    },
    {
     "data": {
      "image/png": "[encoded data removed]",
      "text/plain": [
       "<Figure size 400x400 with 1 Axes>"
      ]
     },
     "metadata": {
      "image/png": {
       "height": 373,
       "width": 393
      }
     },
     "output_type": "display_data"
    }
   ],
   "source": [
    "import seaborn as sns\n",
    "print(df.columns)\n",
    "s = df[[\"d\", \"library\", \"n\", \"repeats\", \"time\"]]\n",
    "\n",
    "fig, ax = plt.subplots(figsize=(4, ) * 2)\n",
    "ax = sns.lineplot(\n",
    "    data=s,\n",
    "    x=\"n\",\n",
    "    y=\"time\",\n",
    "    hue=\"library\",\n",
    "    hue_order=[\"hips\", \"pytorch\", \"numpy\"],\n",
    "    estimator=np.min,\n",
    "    ci=None,\n",
    ")\n",
    "ax.set_yscale(\"log\")\n",
    "ax.set_xscale(\"log\")\n",
    "ax.set_ylabel(\"Time (s)\")\n",
    "ax.set_xlabel(\"Number of observations\")\n",
    "ax.grid(linestyle=\"--\", alpha=0.5)\n",
    "plt.savefig('grad-timings.svg', bbox_inches='tight')"
   ]
  },
  {
   "cell_type": "code",
   "execution_count": 59,
   "metadata": {},
   "outputs": [],
   "source": [
    "!open ."
   ]
  },
  {
   "cell_type": "code",
   "execution_count": 34,
   "metadata": {},
   "outputs": [
    {
     "data": {
      "text/html": [
       "<div>\n",
       "<style scoped>\n",
       "    .dataframe tbody tr th:only-of-type {\n",
       "        vertical-align: middle;\n",
       "    }\n",
       "\n",
       "    .dataframe tbody tr th {\n",
       "        vertical-align: top;\n",
       "    }\n",
       "\n",
       "    .dataframe thead th {\n",
       "        text-align: right;\n",
       "    }\n",
       "</style>\n",
       "<table border=\"1\" class=\"dataframe\">\n",
       "  <thead>\n",
       "    <tr style=\"text-align: right;\">\n",
       "      <th></th>\n",
       "      <th>Unnamed: 0</th>\n",
       "      <th>d</th>\n",
       "      <th>library</th>\n",
       "      <th>n</th>\n",
       "      <th>repeats</th>\n",
       "      <th>result</th>\n",
       "      <th>result_norm</th>\n",
       "      <th>seed</th>\n",
       "      <th>time</th>\n",
       "    </tr>\n",
       "  </thead>\n",
       "  <tbody>\n",
       "    <tr>\n",
       "      <th>0</th>\n",
       "      <td>0</td>\n",
       "      <td>10</td>\n",
       "      <td>pytorch</td>\n",
       "      <td>100</td>\n",
       "      <td>6872</td>\n",
       "      <td>[ -13.99345243   58.82750311   91.40426769  -9...</td>\n",
       "      <td>447.616537</td>\n",
       "      <td>0</td>\n",
       "      <td>0.000076</td>\n",
       "    </tr>\n",
       "    <tr>\n",
       "      <th>1</th>\n",
       "      <td>1</td>\n",
       "      <td>19</td>\n",
       "      <td>pytorch</td>\n",
       "      <td>190</td>\n",
       "      <td>6231</td>\n",
       "      <td>[-114.80507999   60.39931178  132.03786879  -3...</td>\n",
       "      <td>418.088224</td>\n",
       "      <td>0</td>\n",
       "      <td>0.000090</td>\n",
       "    </tr>\n",
       "    <tr>\n",
       "      <th>2</th>\n",
       "      <td>2</td>\n",
       "      <td>39</td>\n",
       "      <td>pytorch</td>\n",
       "      <td>390</td>\n",
       "      <td>4687</td>\n",
       "      <td>[  46.93297063   39.05573521   82.6409679   -3...</td>\n",
       "      <td>298.833339</td>\n",
       "      <td>0</td>\n",
       "      <td>0.000114</td>\n",
       "    </tr>\n",
       "    <tr>\n",
       "      <th>3</th>\n",
       "      <td>3</td>\n",
       "      <td>79</td>\n",
       "      <td>pytorch</td>\n",
       "      <td>790</td>\n",
       "      <td>4859</td>\n",
       "      <td>[ 34.53394543 -26.55528371 -32.84569021   9.55...</td>\n",
       "      <td>323.108401</td>\n",
       "      <td>0</td>\n",
       "      <td>0.000114</td>\n",
       "    </tr>\n",
       "    <tr>\n",
       "      <th>4</th>\n",
       "      <td>4</td>\n",
       "      <td>158</td>\n",
       "      <td>pytorch</td>\n",
       "      <td>1580</td>\n",
       "      <td>3387</td>\n",
       "      <td>[-21.43918084  17.04997105 -24.36146001   7.15...</td>\n",
       "      <td>202.051514</td>\n",
       "      <td>0</td>\n",
       "      <td>0.000217</td>\n",
       "    </tr>\n",
       "  </tbody>\n",
       "</table>\n",
       "</div>"
      ],
      "text/plain": [
       "   Unnamed: 0    d  library     n  repeats  \\\n",
       "0           0   10  pytorch   100     6872   \n",
       "1           1   19  pytorch   190     6231   \n",
       "2           2   39  pytorch   390     4687   \n",
       "3           3   79  pytorch   790     4859   \n",
       "4           4  158  pytorch  1580     3387   \n",
       "\n",
       "                                              result  result_norm  seed  \\\n",
       "0  [ -13.99345243   58.82750311   91.40426769  -9...   447.616537     0   \n",
       "1  [-114.80507999   60.39931178  132.03786879  -3...   418.088224     0   \n",
       "2  [  46.93297063   39.05573521   82.6409679   -3...   298.833339     0   \n",
       "3  [ 34.53394543 -26.55528371 -32.84569021   9.55...   323.108401     0   \n",
       "4  [-21.43918084  17.04997105 -24.36146001   7.15...   202.051514     0   \n",
       "\n",
       "       time  \n",
       "0  0.000076  \n",
       "1  0.000090  \n",
       "2  0.000114  \n",
       "3  0.000114  \n",
       "4  0.000217  "
      ]
     },
     "execution_count": 34,
     "metadata": {},
     "output_type": "execute_result"
    }
   ],
   "source": [
    "df.head()"
   ]
  },
  {
   "cell_type": "code",
   "execution_count": 28,
   "metadata": {},
   "outputs": [
    {
     "data": {
      "application/vnd.vegalite.v2+json": {
       "$schema": "https://vega.github.io/schema/vega-lite/v2.6.0.json",
       "config": {
        "view": {
         "height": 300,
         "width": 400
        }
       },
       "data": {
        "name": "data-fbd1373217b8ec1227b61a8172afcbe9"
       },
       "datasets": {
        "data-fbd1373217b8ec1227b61a8172afcbe9": [
         {
          "d": 10,
          "library": "hips",
          "time (s)": 0.0002288818359375,
          "value": 0.0002288818359375
         },
         {
          "d": 19,
          "library": "hips",
          "time (s)": 0.0002431869506835937,
          "value": 0.0002431869506835937
         },
         {
          "d": 39,
          "library": "hips",
          "time (s)": 0.00025701522827148443,
          "value": 0.00025701522827148443
         },
         {
          "d": 79,
          "library": "hips",
          "time (s)": 0.00028586387634277344,
          "value": 0.00028586387634277344
         },
         {
          "d": 158,
          "library": "hips",
          "time (s)": 0.0004138946533203125,
          "value": 0.0004138946533203125
         },
         {
          "d": 315,
          "library": "hips",
          "time (s)": 0.0012159347534179688,
          "value": 0.0012159347534179688
         },
         {
          "d": 629,
          "library": "hips",
          "time (s)": 0.0035719871520996094,
          "value": 0.0035719871520996094
         },
         {
          "d": 1256,
          "library": "hips",
          "time (s)": 0.012818336486816406,
          "value": 0.012818336486816406
         },
         {
          "d": 2506,
          "library": "hips",
          "time (s)": 0.05371284484863281,
          "value": 0.05371284484863281
         },
         {
          "d": 4999,
          "library": "hips",
          "time (s)": 0.21684813499450686,
          "value": 0.21684813499450686
         },
         {
          "d": 10,
          "library": "numpy",
          "time (s)": 4.76837158203125e-06,
          "value": 4.76837158203125e-06
         },
         {
          "d": 19,
          "library": "numpy",
          "time (s)": 8.821487426757812e-06,
          "value": 8.821487426757812e-06
         },
         {
          "d": 39,
          "library": "numpy",
          "time (s)": 1.2636184692382812e-05,
          "value": 1.2636184692382812e-05
         },
         {
          "d": 79,
          "library": "numpy",
          "time (s)": 2.574920654296875e-05,
          "value": 2.574920654296875e-05
         },
         {
          "d": 158,
          "library": "numpy",
          "time (s)": 6.985664367675781e-05,
          "value": 6.985664367675781e-05
         },
         {
          "d": 315,
          "library": "numpy",
          "time (s)": 0.0006508827209472656,
          "value": 0.0006508827209472656
         },
         {
          "d": 629,
          "library": "numpy",
          "time (s)": 0.002910852432250977,
          "value": 0.002910852432250977
         },
         {
          "d": 1256,
          "library": "numpy",
          "time (s)": 0.011895179748535156,
          "value": 0.011895179748535156
         },
         {
          "d": 2506,
          "library": "numpy",
          "time (s)": 0.0522768497467041,
          "value": 0.0522768497467041
         },
         {
          "d": 4999,
          "library": "numpy",
          "time (s)": 0.21740078926086426,
          "value": 0.21740078926086426
         },
         {
          "d": 10,
          "library": "pytorch",
          "time (s)": 7.081031799316406e-05,
          "value": 7.081031799316406e-05
         },
         {
          "d": 19,
          "library": "pytorch",
          "time (s)": 8.082389831542969e-05,
          "value": 8.082389831542969e-05
         },
         {
          "d": 39,
          "library": "pytorch",
          "time (s)": 9.083747863769533e-05,
          "value": 9.083747863769533e-05
         },
         {
          "d": 79,
          "library": "pytorch",
          "time (s)": 0.0001049041748046875,
          "value": 0.0001049041748046875
         },
         {
          "d": 158,
          "library": "pytorch",
          "time (s)": 0.00020194053649902344,
          "value": 0.00020194053649902344
         },
         {
          "d": 315,
          "library": "pytorch",
          "time (s)": 0.0009419918060302734,
          "value": 0.0009419918060302734
         },
         {
          "d": 629,
          "library": "pytorch",
          "time (s)": 0.0031719207763671875,
          "value": 0.0031719207763671875
         },
         {
          "d": 1256,
          "library": "pytorch",
          "time (s)": 0.01227092742919922,
          "value": 0.01227092742919922
         },
         {
          "d": 2506,
          "library": "pytorch",
          "time (s)": 0.054989099502563484,
          "value": 0.054989099502563484
         },
         {
          "d": 4999,
          "library": "pytorch",
          "time (s)": 0.2239689826965332,
          "value": 0.2239689826965332
         }
        ]
       },
       "encoding": {
        "color": {
         "field": "library",
         "type": "nominal"
        },
        "x": {
         "field": "d",
         "scale": {
          "type": "log"
         },
         "type": "quantitative"
        },
        "y": {
         "field": "time (s)",
         "scale": {
          "type": "log"
         },
         "type": "quantitative"
        }
       },
       "mark": "line",
       "selection": {
        "selector001": {
         "bind": "scales",
         "encodings": [
          "x",
          "y"
         ],
         "mark": {
          "fill": "#333",
          "fillOpacity": 0.125,
          "stroke": "white"
         },
         "on": "[mousedown, window:mouseup] > window:mousemove!",
         "resolve": "global",
         "translate": "[mousedown, window:mouseup] > window:mousemove!",
         "type": "interval",
         "zoom": "wheel!"
        }
       }
      },
      "image/png": "[encoded data removed]",
      "text/plain": [
       "<VegaLite 2 object>\n",
       "\n",
       "If you see this message, it means the renderer has not been properly enabled\n",
       "for the frontend that you are using. For more information, see\n",
       "https://altair-viz.github.io/user_guide/troubleshooting.html\n"
      ]
     },
     "execution_count": 28,
     "metadata": {},
     "output_type": "execute_result"
    }
   ],
   "source": [
    "\n",
    "import altair as alt\n",
    "alt.Chart(s).mark_line().encode(\n",
    "    x=alt.X(\"d\", scale=alt.Scale(type=\"log\")),\n",
    "    y=alt.Y(\"time (s)\", scale=alt.Scale(type=\"log\")),\n",
    "    color=\"library\",\n",
    ").interactive()"
   ]
  },
  {
   "cell_type": "code",
   "execution_count": 18,
   "metadata": {
    "ExecuteTime": {
     "end_time": "2017-09-07T23:20:04.195990Z",
     "start_time": "2017-09-07T23:20:03.487941Z"
    }
   },
   "outputs": [
    {
     "data": {
      "text/plain": [
       "[<matplotlib.lines.Line2D at 0x12ac768d0>]"
      ]
     },
     "execution_count": 18,
     "metadata": {},
     "output_type": "execute_result"
    },
    {
     "data": {
      "image/png": "[encoded data removed]",
      "text/plain": [
       "<Figure size 640x480 with 1 Axes>"
      ]
     },
     "metadata": {
      "image/png": {
       "height": 435,
       "width": 559
      }
     },
     "output_type": "display_data"
    }
   ],
   "source": [
    "speedup = show['pytorch'] / show['numpy'] \n",
    "speedup.plot(logx=True, logy=True)\n",
    "plt.plot([show.index.min(), show.index.max()], [1, 1])\n",
    "# because I have 8 cores on this system\n",
    "plt.plot([show.index.min(), show.index.max()], [1/8, 1/8])"
   ]
  },
  {
   "cell_type": "code",
   "execution_count": null,
   "metadata": {
    "collapsed": true
   },
   "outputs": [],
   "source": []
  }
 ],
 "metadata": {
  "kernelspec": {
   "display_name": "Python 3",
   "language": "python",
   "name": "python3"
  },
  "language_info": {
   "codemirror_mode": {
    "name": "ipython",
    "version": 3
   },
   "file_extension": ".py",
   "mimetype": "text/x-python",
   "name": "python",
   "nbconvert_exporter": "python",
   "pygments_lexer": "ipython3",
   "version": "3.6.5"
  }
 },
 "nbformat": 4,
 "nbformat_minor": 2
}
